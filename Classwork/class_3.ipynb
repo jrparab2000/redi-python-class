{
 "cells": [
  {
   "cell_type": "markdown",
   "id": "fb7cfce3",
   "metadata": {},
   "source": [
    "__Immutable and Mutable__\n",
    "\n",
    "Immutable objects cannot be change it cnnot be modified if changed then it will create another object int, str, tuple are immutable \n",
    "\n",
    "address of x changes after reassignment that means new object is been created."
   ]
  },
  {
   "cell_type": "code",
   "execution_count": 3,
   "id": "6e78439e",
   "metadata": {},
   "outputs": [
    {
     "name": "stdout",
     "output_type": "stream",
     "text": [
      "before change x = 10 address 1994979672592\n",
      "After change x = 25 address 1994979673072\n"
     ]
    }
   ],
   "source": [
    "x = 10\n",
    "print(f\"before change x = {x} address {id(x)}\")\n",
    "\n",
    "x += 15\n",
    "print(f\"After change x = {x} address {id(x)}\")"
   ]
  },
  {
   "cell_type": "markdown",
   "id": "9eb8a3f9",
   "metadata": {},
   "source": [
    "Mutable objects are like list dict and others this can be changed during and there object address will not change.\n",
    "\n",
    "address will remain the same in list becasue it is mutable "
   ]
  },
  {
   "cell_type": "code",
   "execution_count": 2,
   "id": "d2ce5270",
   "metadata": {},
   "outputs": [
    {
     "name": "stdout",
     "output_type": "stream",
     "text": [
      "id= 1753306695552\n",
      "id= 1753306695552\n"
     ]
    }
   ],
   "source": [
    "fruits = [\"apple\", \"bannana\"]\n",
    "print(f\"id= {id(fruits)}\")\n",
    "fruits.append(\"cherry\")\n",
    "print(f\"id= {id(fruits)}\")"
   ]
  },
  {
   "cell_type": "markdown",
   "id": "99f43294",
   "metadata": {},
   "source": [
    "mutuable objects in class, can affect its operation. When list is a instance attribute but if one object changes the value it will change the value of all intances or objects.\n",
    "\n",
    "This happens becasuse it has the default list created during the compilation so, when car1 and car2 is pointing at the same list becasuse it uses default list and list are mutable.\n",
    "\n",
    "but, in case of car3 it is using its own lists No roof so its not using default list so it will create new list, which is not default. \n",
    "\n",
    "__Don't use default values with mutable attributes__"
   ]
  },
  {
   "cell_type": "code",
   "execution_count": null,
   "id": "f654b2bd",
   "metadata": {},
   "outputs": [
    {
     "name": "stdout",
     "output_type": "stream",
     "text": [
      "Car1 tata feature ['sunroof']\n",
      "Car2 Honda feature ['sunroof']\n",
      "Car3 SUV feature ['No roof']\n",
      "Car4 volvo feature ['This is weird']\n",
      "Car5 idiot feature ['sunroof']\n"
     ]
    }
   ],
   "source": [
    "class Car:\n",
    "    def __init__(self,brand,features =[]):  # mutable list default value can casue issue because all the object with default will be pointing to same list\n",
    "        self.brand = brand\n",
    "        self.features = features\n",
    "\n",
    "car1 = Car(\"tata\")\n",
    "car2 = Car(\"Honda\")\n",
    "car4 = Car(\"volvo\")\n",
    "\n",
    "car1.features.append(\"sunroof\")\n",
    "car4.features = [\"This is weird\"]   # this will overwrite the default list and it will be pointing to new list\n",
    "car3 = Car(\"SUV\",[\"No roof\"])   #this is not using default list features\n",
    "\n",
    "car5 = Car(\"idiot\") #using again default list so it will be pointing to sunroof\n",
    "\n",
    "print(f\"Car1 {car1.brand} feature {car1.features}\")\n",
    "print(f\"Car2 {car2.brand} feature {car2.features}\")\n",
    "print(f\"Car3 {car3.brand} feature {car3.features}\")\n",
    "print(f\"Car4 {car4.brand} feature {car4.features}\")\n",
    "print(f\"Car5 {car5.brand} feature {car5.features}\")"
   ]
  },
  {
   "cell_type": "markdown",
   "id": "daf0ebee",
   "metadata": {},
   "source": [
    "__Encapsulation__\n",
    "\n",
    "Encapulation is use to make methods and attributes we can use public and proctected\n",
    "\n",
    "naming convention\n",
    "_protected -> conventionally for internal use\n",
    "__private -> name mangled to discourage direct access ( basicially python change the name of the attribute internally so  we get error that object dont exits)\n",
    "\n",
    "python will change private varible name like _Car__color"
   ]
  },
  {
   "cell_type": "code",
   "execution_count": 14,
   "id": "f87d079f",
   "metadata": {},
   "outputs": [
    {
     "name": "stdout",
     "output_type": "stream",
     "text": [
      "Tata\n",
      "1\n",
      "red\n"
     ]
    }
   ],
   "source": [
    "class Car:\n",
    "    def __init__(self, brand, miliage,color):\n",
    "        self.brand = brand\n",
    "        self._miliage = miliage\n",
    "        self.__color = color\n",
    "\n",
    "car = Car(\"Tata\",1,\"red\")\n",
    "\n",
    "print(car.brand)\n",
    "print(car._miliage)\n",
    "# print(car.__color) this will genrate error\n",
    "print(car._Car__color)"
   ]
  },
  {
   "cell_type": "markdown",
   "id": "237e47dc",
   "metadata": {},
   "source": [
    "Use __Properties__ to control how attributes are changed\n",
    "\n",
    "@property -> getter, \n",
    "@atte.setter -> setter\n",
    "\n",
    "Provide a __Pythonic interface__ access like normalattribute with vaildation and control\n",
    "\n",
    "This helps the user to access private the attributes in the class and is not only access but we cna restrict by appling policy that you can access only this way or you can only write this to given private varible."
   ]
  },
  {
   "cell_type": "code",
   "execution_count": null,
   "id": "c3b472b5",
   "metadata": {},
   "outputs": [
    {
     "name": "stdout",
     "output_type": "stream",
     "text": [
      "red\n",
      "blue\n",
      "purple is not a valid color\n"
     ]
    }
   ],
   "source": [
    "class Car:\n",
    "    def __init__(self, brand,color):\n",
    "        self.brand = brand\n",
    "        self.__color = color\n",
    "\n",
    "    @property\n",
    "    def color(self):\n",
    "        return self.__color\n",
    "\n",
    "    @color.setter\n",
    "    def color(self, new_color):\n",
    "        allowed_colors = ['red','blue','black']\n",
    "        if new_color.lower() in allowed_colors:\n",
    "            self.__color = new_color\n",
    "        else:\n",
    "            raise ValueError(f\"{new_color} is not a valid color\")\n",
    "\n",
    "car = Car(\"Tesla\", \"red\")\n",
    "\n",
    "# this is happend because we used @property to get the color using the color function \n",
    "print(car.color)\n",
    "\n",
    "# this is because we wrote fuction with @color.setter so we can pass new_color = \"blue\"\n",
    "car.color = \"blue\"\n",
    "print(car.color)\n",
    "\n",
    "try:\n",
    "    car.color = \"purple\"\n",
    "except ValueError as e:\n",
    "    print(e)"
   ]
  }
 ],
 "metadata": {
  "kernelspec": {
   "display_name": "myenv",
   "language": "python",
   "name": "python3"
  },
  "language_info": {
   "codemirror_mode": {
    "name": "ipython",
    "version": 3
   },
   "file_extension": ".py",
   "mimetype": "text/x-python",
   "name": "python",
   "nbconvert_exporter": "python",
   "pygments_lexer": "ipython3",
   "version": "3.10.0"
  }
 },
 "nbformat": 4,
 "nbformat_minor": 5
}
